{
 "cells": [
  {
   "cell_type": "code",
   "execution_count": 1,
   "metadata": {},
   "outputs": [],
   "source": [
    "import pandas as pd\n",
    "\n",
    "#opening data files with pandas (might need to adjust where to find the source file based on where it's stored in the computer)\n",
    "asym = pd.read_csv('hydrogen_bonds_asymmetric.csv')\n",
    "sym = pd.read_csv('hydrogen_bonds_symmetric.csv')\n",
    "asym_tight = pd.read_csv('hydrogen_bonds_asymmetric_tight.csv')\n",
    "sym_tight = pd.read_csv('hydrogen_bonds_symmetric_tight.csv')\n",
    "\n",
    "a_ids = asym['pdbcode']\n",
    "a_dist = asym['d']\n",
    "a_angle1 = asym['angle1']\n",
    "a_tor1 = asym['tor1']\n",
    "a_angle2 = asym['angle2']\n",
    "a_tor2 = asym['tor2']\n",
    "\n",
    "s_ids = sym['pdbcode']\n",
    "s_dist = sym['d']\n",
    "s_angle1 = sym['angle1']\n",
    "s_tor1 = sym['tor1']\n",
    "s_angle2 = sym['angle2']\n",
    "s_tor2 = sym['tor2']\n",
    "\n",
    "at_ids = asym_tight['pdbcode']\n",
    "at_dist = asym_tight['d']\n",
    "at_angle1 = asym_tight['angle1']\n",
    "at_tor1 = asym_tight['tor1']\n",
    "at_angle2 = asym_tight['angle2']\n",
    "at_tor2 = asym_tight['tor2']\n",
    "\n",
    "st_ids = sym_tight['pdbcode']\n",
    "st_dist = sym_tight['d']\n",
    "st_angle1 = sym_tight['angle1']\n",
    "st_tor1 = sym_tight['tor1']\n",
    "st_angle2 = sym_tight['angle2']\n",
    "st_tor2 = sym_tight['tor2']\n",
    "\n",
    "#renaming columns of data to concatonate the same variables together, e.g. d is distance\n",
    "#in each file type, so we change d to a_d for asymmetric distance in a concatonated list with only distance and so on \n",
    "asym_new = asym.rename(columns={'d':'a_d', 'angle1':'a_angle1', 'tor1':'a_tor1', 'angle2':'a_angle2', 'tor2':'a_tor2'})\n",
    "sym_new = sym.rename(columns={'d':'s_d', 'angle1':'s_angle1', 'tor1':'s_tor1', 'angle2':'s_angle2', 'tor2':'s_tor2'})\n",
    "asym_tight_new = asym_tight.rename(columns={'d':'at_d', 'angle1':'at_angle1', 'tor1':'at_tor1', 'angle2':'at_angle2', 'tor2':'at_tor2'})\n",
    "sym_tight_new = sym_tight.rename(columns={'d':'st_d', 'angle1':'st_angle1', 'tor1':'st_tor1', 'angle2':'st_angle2', 'tor2':'st_tor2'})\n",
    "\n",
    "a_dist_new = asym_new['a_d']\n",
    "a_angle1_new = asym_new['a_angle1']\n",
    "a_tor1_new = asym_new['a_tor1']\n",
    "a_angle2_new = asym_new['a_angle2']\n",
    "a_tor2_new = asym_new['a_tor2']\n",
    "\n",
    "s_dist_new = sym_new['s_d']\n",
    "s_angle1_new = sym_new['s_angle1']\n",
    "s_tor1_new = sym_new['s_tor1']\n",
    "s_angle2_new = sym_new['s_angle2']\n",
    "s_tor2_new = sym_new['s_tor2']\n",
    "\n",
    "at_dist_new = asym_tight_new['at_d']\n",
    "at_angle1_new = asym_tight_new['at_angle1']\n",
    "at_tor1_new = asym_tight_new['at_tor1']\n",
    "at_angle2_new = asym_tight_new['at_angle2']\n",
    "at_tor2_new = asym_tight_new['at_tor2']\n",
    "\n",
    "st_dist_new = sym_tight_new['st_d']\n",
    "st_angle1_new = sym_tight_new['st_angle1']\n",
    "st_tor1_new = sym_tight_new['st_tor1']\n",
    "st_angle2_new = sym_tight_new['st_angle2']\n",
    "st_tor2_new = sym_tight_new['st_tor2']\n",
    "\n",
    "#concatonated lists of the same variable\n",
    "dist = pd.concat([a_dist_new, s_dist_new, at_dist_new, st_dist_new], axis=1)\n",
    "angle1 = pd.concat([a_angle1_new, s_angle1_new, at_angle1_new, st_angle1_new], axis=1)\n",
    "tor1 = pd.concat([a_tor1_new, s_tor1_new, at_tor1_new, st_tor1_new], axis=1)\n",
    "angle2 = pd.concat([a_angle2_new, s_angle2_new, at_angle2_new, st_angle2_new], axis=1)\n",
    "tor2 = pd.concat([a_tor2_new, s_tor2_new, at_tor2_new, st_tor2_new], axis=1)"
   ]
  },
  {
   "cell_type": "code",
   "execution_count": 2,
   "metadata": {},
   "outputs": [
    {
     "name": "stdout",
     "output_type": "stream",
     "text": [
      "       pdbcode resn1  resid1 atom1 resn2  resid2 atom2         d      angle1  \\\n",
      "0         117e   ASP  A 152    OD1   ASP  A 120    OD2  2.788421  122.375957   \n",
      "1         117e   ASP  H1152    OD1   ASP  H1120    OD2  2.774834  119.029883   \n",
      "2         15c8   ASP  A 167    OD2   ASP  A 170    OD1  2.595460   96.863402   \n",
      "3         15c8   ASP  A 170    OD1   ASP  A 167    OD2  2.595460  128.974446   \n",
      "4         19hc   ASP  A 250    OD2   ASP  A 253    OD2  2.651929  117.874598   \n",
      "...        ...   ...     ...   ...   ...     ...   ...       ...         ...   \n",
      "126561    8tln   ASP  E  57    OD2   ASP  E  59    OD1  2.602554  142.382189   \n",
      "126562    8tln   ASP  E  59    OD1   ASP  E  57    OD2  2.602554  147.612354   \n",
      "126563    9abp   GLU  A  20    OE1   ASP  A  89    OD1  2.479836  115.094929   \n",
      "126564    9abp   ASP  A  89    OD1   GLU  A  20    OE1  2.479836  111.023320   \n",
      "126565    9abp   ASP  A 235    OD2   GLU  A  14    OE2  2.711978  134.447624   \n",
      "\n",
      "              tor1      angle2        tor2  atomi1  atomi2  \n",
      "0      -137.493128  147.225340 -104.254828    1210     974  \n",
      "1      -136.548122  151.807760 -122.983632    3452    3216  \n",
      "2       -57.908147  128.974446   18.923287    1272    1294  \n",
      "3        18.923287   96.863402  -57.908147    1294    1272  \n",
      "4       138.279939  121.844638  -13.322681    1865    1883  \n",
      "...            ...         ...         ...     ...     ...  \n",
      "126561  166.775466  147.612354  -28.283213     448     460  \n",
      "126562  -28.283213  142.382189  166.775466     460     448  \n",
      "126563  159.983969  111.023320 -173.273315     157     662  \n",
      "126564 -173.273315  115.094929  159.983969     662     157  \n",
      "126565 -179.165305   90.260728   66.744960    1767     101  \n",
      "\n",
      "[126566 rows x 14 columns]\n"
     ]
    }
   ],
   "source": [
    "#structure of original data frames based on sets such as asymmetric, symmetric, etc.\n",
    "print(asym)"
   ]
  },
  {
   "cell_type": "code",
   "execution_count": 3,
   "metadata": {},
   "outputs": [
    {
     "name": "stdout",
     "output_type": "stream",
     "text": [
      "             a_d       s_d      at_d      st_d\n",
      "0       2.788421  2.424436  2.595460  2.643104\n",
      "1       2.774834  2.879996  2.651929  2.643104\n",
      "2       2.595460  2.879996  2.604696  2.417424\n",
      "3       2.595460  2.675911  2.604696  2.417424\n",
      "4       2.651929  2.675911  2.604696  2.570838\n",
      "...          ...       ...       ...       ...\n",
      "126561  2.602554       NaN       NaN       NaN\n",
      "126562  2.602554       NaN       NaN       NaN\n",
      "126563  2.479836       NaN       NaN       NaN\n",
      "126564  2.479836       NaN       NaN       NaN\n",
      "126565  2.711978       NaN       NaN       NaN\n",
      "\n",
      "[126566 rows x 4 columns]\n"
     ]
    }
   ],
   "source": [
    "#structure of concatonated lists based on one particular variable such as distance, angle1, etc.\n",
    "#the prefix a is asymmetric, s is symmetric, at is asymmetric-tight, and st is symmetric tight in category a_d, s_d, etc.\n",
    "print(dist)"
   ]
  },
  {
   "cell_type": "code",
   "execution_count": 8,
   "metadata": {
    "scrolled": true
   },
   "outputs": [
    {
     "name": "stdout",
     "output_type": "stream",
     "text": [
      "[t-SNE] Computing 151 nearest neighbors...\n",
      "[t-SNE] Indexed 3746 samples in 0.002s...\n",
      "[t-SNE] Computed neighbors for 3746 samples in 0.146s...\n",
      "[t-SNE] Computed conditional probabilities for sample 1000 / 3746\n",
      "[t-SNE] Computed conditional probabilities for sample 2000 / 3746\n",
      "[t-SNE] Computed conditional probabilities for sample 3000 / 3746\n",
      "[t-SNE] Computed conditional probabilities for sample 3746 / 3746\n",
      "[t-SNE] Mean sigma: 0.058458\n",
      "[t-SNE] KL divergence after 250 iterations with early exaggeration: 74.493958\n",
      "[t-SNE] KL divergence after 1000 iterations: 1.411556\n",
      "[[-28.58567  -18.52499 ]\n",
      " [-17.931387  32.491165]\n",
      " [  8.605074  47.20339 ]\n",
      " ...\n",
      " [ -9.61175    9.703629]\n",
      " [ -6.367797   8.158403]\n",
      " [ -3.42579  -29.243374]]\n"
     ]
    }
   ],
   "source": [
    "#t-SNE code to make a 2-dimensional array\n",
    "from sklearn.manifold import TSNE\n",
    "\n",
    "df = dist.dropna()\n",
    "tsne_em = TSNE(n_components=2, perplexity=50.0, n_iter=1000, verbose=1).fit_transform(df)\n",
    "print(tsne_em)"
   ]
  },
  {
   "cell_type": "code",
   "execution_count": 7,
   "metadata": {},
   "outputs": [],
   "source": [
    "# code for visualization of 2-D array\n",
    "# plot will be saved in same directory (tsne_2d.png)\n",
    ">>> from bioinfokit.visuz import cluster\n",
    ">>> cluster.tsneplot(score=tsne_em)"
   ]
  },
  {
   "cell_type": "code",
   "execution_count": 10,
   "metadata": {},
   "outputs": [
    {
     "name": "stdout",
     "output_type": "stream",
     "text": [
      "None\n"
     ]
    }
   ],
   "source": []
  },
  {
   "cell_type": "code",
   "execution_count": null,
   "metadata": {},
   "outputs": [],
   "source": []
  }
 ],
 "metadata": {
  "kernelspec": {
   "display_name": "Python 3",
   "language": "python",
   "name": "python3"
  },
  "language_info": {
   "codemirror_mode": {
    "name": "ipython",
    "version": 3
   },
   "file_extension": ".py",
   "mimetype": "text/x-python",
   "name": "python",
   "nbconvert_exporter": "python",
   "pygments_lexer": "ipython3",
   "version": "3.7.6"
  }
 },
 "nbformat": 4,
 "nbformat_minor": 4
}
