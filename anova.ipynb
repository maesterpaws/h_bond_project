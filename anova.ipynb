{
 "cells": [
  {
   "cell_type": "code",
   "execution_count": 1,
   "metadata": {},
   "outputs": [],
   "source": [
    "import pandas as pd\n",
    "import pingouin as pg\n",
    "\n",
    "asym = pd.read_csv('hydrogen_bonds_asymmetric.csv')\n",
    "sym = pd.read_csv('hydrogen_bonds_symmetric.csv')\n",
    "asym_tight = pd.read_csv('hydrogen_bonds_asymmetric_tight.csv')\n",
    "sym_tight = pd.read_csv('hydrogen_bonds_symmetric_tight.csv')\n",
    "\n",
    "a_ids = asym['pdbcode']\n",
    "a_dist = asym['d']\n",
    "a_angle1 = asym['angle1']\n",
    "a_tor1 = asym['tor1']\n",
    "a_angle2 = asym['angle2']\n",
    "a_tor2 = asym['tor2']\n",
    "\n",
    "s_ids = sym['pdbcode']\n",
    "s_dist = sym['d']\n",
    "s_angle1 = sym['angle1']\n",
    "s_tor1 = sym['tor1']\n",
    "s_angle2 = sym['angle2']\n",
    "s_tor2 = sym['tor2']\n",
    "\n",
    "at_ids = asym_tight['pdbcode']\n",
    "at_dist = asym_tight['d']\n",
    "at_angle1 = asym_tight['angle1']\n",
    "at_tor1 = asym_tight['tor1']\n",
    "at_angle2 = asym_tight['angle2']\n",
    "at_tor2 = asym_tight['tor2']\n",
    "\n",
    "st_ids = sym_tight['pdbcode']\n",
    "st_dist = sym_tight['d']\n",
    "st_angle1 = sym_tight['angle1']\n",
    "st_tor1 = sym_tight['tor1']\n",
    "st_angle2 = sym_tight['angle2']\n",
    "st_tor2 = sym_tight['tor2']"
   ]
  },
  {
   "cell_type": "code",
   "execution_count": 2,
   "metadata": {},
   "outputs": [],
   "source": [
    "asym_new = asym.rename(columns={'d':'a_d', 'angle1':'a_angle1', 'tor1':'a_tor1', 'angle2':'a_angle2', 'tor2':'a_tor2'})\n",
    "sym_new = sym.rename(columns={'d':'s_d', 'angle1':'s_angle1', 'tor1':'s_tor1', 'angle2':'s_angle2', 'tor2':'s_tor2'})\n",
    "asym_tight_new = asym_tight.rename(columns={'d':'at_d', 'angle1':'at_angle1', 'tor1':'at_tor1', 'angle2':'at_angle2', 'tor2':'at_tor2'})\n",
    "sym_tight_new = asym_tight.rename(columns={'d':'st_d', 'angle1':'st_angle1', 'tor1':'st_tor1', 'angle2':'st_angle2', 'tor2':'st_tor2'})\n",
    "\n",
    "a_dist_new = asym_new['a_d']\n",
    "a_angle1_new = asym_new['a_angle1']\n",
    "a_tor1_new = asym_new['a_tor1']\n",
    "a_angle2_new = asym_new['a_angle2']\n",
    "a_tor2_new = asym_new['a_tor2']\n",
    "\n",
    "s_dist_new = sym_new['s_d']\n",
    "s_angle1_new = sym_new['s_angle1']\n",
    "s_tor1_new = sym_new['s_tor1']\n",
    "s_angle2_new = sym_new['s_angle2']\n",
    "s_tor2_new = sym_new['s_tor2']\n",
    "\n",
    "at_dist_new = asym_tight_new['at_d']\n",
    "at_angle1_new = asym_tight_new['at_angle1']\n",
    "at_tor1_new = asym_tight_new['at_tor1']\n",
    "at_angle2_new = asym_tight_new['at_angle2']\n",
    "at_tor2_new = asym_tight_new['at_tor2']\n",
    "\n",
    "st_dist_new = sym_tight_new['st_d']\n",
    "st_angle1_new = sym_tight_new['st_angle1']\n",
    "st_tor1_new = sym_tight_new['st_tor1']\n",
    "st_angle2_new = sym_tight_new['st_angle2']\n",
    "st_tor2_new = sym_tight_new['st_tor2']\n",
    "\n",
    "dist = pd.concat([a_dist_new, s_dist_new, at_dist_new, st_dist_new], axis=1)\n",
    "angle1 = pd.concat([a_angle1_new, s_angle1_new, at_angle1_new, st_angle1_new], axis=1)\n",
    "tor1 = pd.concat([a_tor1_new, s_tor1_new, at_tor1_new, st_tor1_new], axis=1)\n",
    "angle2 = pd.concat([a_angle2_new, s_angle2_new, at_angle2_new, st_angle2_new], axis=1)\n",
    "tor2 = pd.concat([a_tor2_new, s_tor2_new, at_tor2_new, st_tor2_new], axis=1)"
   ]
  },
  {
   "cell_type": "code",
   "execution_count": 3,
   "metadata": {},
   "outputs": [
    {
     "name": "stdout",
     "output_type": "stream",
     "text": [
      "   Source          SS    DF        MS         F          p-unc       np2\n",
      "0     s_d  152.722001  4783  0.031930  2.033117  3.642739e-129  0.674257\n",
      "1  Within   73.782227  4698  0.015705       NaN            NaN       NaN\n",
      "\n",
      "   Source          SS     DF        MS         F  p-unc       np2\n",
      "0    at_d  1088.80352  32425  0.033579  2.402996    0.0  0.730497\n",
      "1  Within   401.69270  28746  0.013974       NaN    NaN       NaN\n",
      "\n",
      "   Source          SS     DF        MS         F  p-unc       np2\n",
      "0    st_d  1088.80352  32425  0.033579  2.402996    0.0  0.730497\n",
      "1  Within   401.69270  28746  0.013974       NaN    NaN       NaN\n",
      "\n",
      "   Source          SS    DF        MS         F          p-unc       np2\n",
      "0    st_d  196.693227  5055  0.038911  2.763133  2.341245e-251  0.759373\n",
      "1  Within   62.327239  4426  0.014082       NaN            NaN       NaN\n"
     ]
    }
   ],
   "source": [
    "aov1 = pg.anova(dv='a_d', between='s_d', data=dist,\n",
    "               detailed=True)\n",
    "aov2 = pg.anova(dv='a_d', between='at_d', data=dist,\n",
    "               detailed=True)\n",
    "aov3 = pg.anova(dv='a_d', between='st_d', data=dist,\n",
    "               detailed=True)\n",
    "aov4 = pg.anova(dv='s_d', between='st_d', data=dist,\n",
    "               detailed=True)\n",
    "print(aov1)\n",
    "print()\n",
    "print(aov2)\n",
    "print()\n",
    "print(aov3)\n",
    "print()\n",
    "print(aov4)"
   ]
  },
  {
   "cell_type": "code",
   "execution_count": 8,
   "metadata": {},
   "outputs": [
    {
     "name": "stdout",
     "output_type": "stream",
     "text": [
      "     Source            SS    DF          MS         F     p-unc       np2\n",
      "0  s_angle1  1.125271e+06  7503  149.976112  1.094902  0.006089  0.805946\n",
      "1    Within  2.709399e+05  1978  136.976695       NaN       NaN       NaN\n",
      "\n",
      "      Source            SS     DF         MS         F         p-unc       np2\n",
      "0  at_angle1  7.090783e+06  52354  135.43918  1.166135  9.698819e-21  0.873806\n",
      "1     Within  1.024039e+06   8817  116.14369       NaN           NaN       NaN\n",
      "\n",
      "      Source            SS     DF         MS         F         p-unc       np2\n",
      "0  st_angle1  7.090783e+06  52354  135.43918  1.166135  9.698819e-21  0.873806\n",
      "1     Within  1.024039e+06   8817  116.14369       NaN           NaN       NaN\n",
      "\n",
      "      Source            SS    DF          MS         F         p-unc       np2\n",
      "0  st_angle1  1.386254e+06  8054  172.119960  1.221181  8.102927e-07  0.873295\n",
      "1     Within  2.011292e+05  1427  140.945464       NaN           NaN       NaN\n"
     ]
    }
   ],
   "source": [
    "aov1 = pg.anova(dv='a_angle1', between='s_angle1', data=angle1,\n",
    "               detailed=True)\n",
    "aov2 = pg.anova(dv='a_angle1', between='at_angle1', data=angle1,\n",
    "               detailed=True)\n",
    "aov3 = pg.anova(dv='a_angle1', between='st_angle1', data=angle1,\n",
    "               detailed=True)\n",
    "aov4 = pg.anova(dv='s_angle1', between='st_angle1', data=angle1,\n",
    "               detailed=True)\n",
    "print(aov1)\n",
    "print()\n",
    "print(aov2)\n",
    "print()\n",
    "print(aov3)\n",
    "print()\n",
    "print(aov4)"
   ]
  },
  {
   "cell_type": "code",
   "execution_count": 9,
   "metadata": {},
   "outputs": [
    {
     "name": "stdout",
     "output_type": "stream",
     "text": [
      "     Source            SS    DF          MS        F     p-unc       np2\n",
      "0  s_angle2  2.356873e+06  7559  311.796867  1.07351  0.026049  0.808502\n",
      "1    Within  5.582377e+05  1922  290.446254      NaN       NaN       NaN\n",
      "\n",
      "      Source            SS     DF          MS         F         p-unc      np2\n",
      "0  at_angle2  1.553486e+07  52416  296.376326  1.131921  4.003304e-14  0.87154\n",
      "1     Within  2.289746e+06   8745  261.834880       NaN           NaN      NaN\n",
      "\n",
      "      Source            SS     DF          MS         F         p-unc      np2\n",
      "0  st_angle2  1.553486e+07  52416  296.376326  1.131921  4.003304e-14  0.87154\n",
      "1     Within  2.289746e+06   8745  261.834880       NaN           NaN      NaN\n",
      "\n",
      "      Source            SS    DF          MS        F         p-unc       np2\n",
      "0  st_angle2  2.882610e+06  8055  357.865929  1.32435  1.195616e-11  0.882087\n",
      "1     Within  3.853338e+05  1426  270.220047      NaN           NaN       NaN\n"
     ]
    }
   ],
   "source": [
    "aov1 = pg.anova(dv='a_angle2', between='s_angle2', data=angle2,\n",
    "               detailed=True)\n",
    "aov2 = pg.anova(dv='a_angle2', between='at_angle2', data=angle2,\n",
    "               detailed=True)\n",
    "aov3 = pg.anova(dv='a_angle2', between='st_angle2', data=angle2,\n",
    "               detailed=True)\n",
    "aov4 = pg.anova(dv='s_angle2', between='st_angle2', data=angle2,\n",
    "               detailed=True)\n",
    "print(aov1)\n",
    "print()\n",
    "print(aov2)\n",
    "print()\n",
    "print(aov3)\n",
    "print()\n",
    "print(aov4)"
   ]
  },
  {
   "cell_type": "code",
   "execution_count": 11,
   "metadata": {},
   "outputs": [
    {
     "name": "stdout",
     "output_type": "stream",
     "text": [
      "   Source            SS    DF            MS         F     p-unc       np2\n",
      "0  s_tor1  1.171860e+08  7709  15201.195692  1.157089  0.000059  0.834269\n",
      "1  Within  2.327956e+07  1772  13137.449373       NaN       NaN       NaN\n",
      "\n",
      "    Source            SS     DF            MS         F         p-unc  \\\n",
      "0  at_tor1  7.719724e+08  53926  14315.401937  1.105661  1.074964e-08   \n",
      "1   Within  9.380368e+07   7245  12947.368286       NaN           NaN   \n",
      "\n",
      "        np2  \n",
      "0  0.891654  \n",
      "1       NaN  \n",
      "\n",
      "    Source            SS     DF            MS         F         p-unc  \\\n",
      "0  st_tor1  7.719724e+08  53926  14315.401937  1.105661  1.074964e-08   \n",
      "1   Within  9.380368e+07   7245  12947.368286       NaN           NaN   \n",
      "\n",
      "        np2  \n",
      "0  0.891654  \n",
      "1       NaN  \n",
      "\n",
      "    Source            SS    DF            MS         F         p-unc       np2\n",
      "0  st_tor1  1.521820e+08  8322  18286.713494  1.345765  5.977211e-11  0.906218\n",
      "1   Within  1.574889e+07  1159  13588.339164       NaN           NaN       NaN\n"
     ]
    }
   ],
   "source": [
    "aov1 = pg.anova(dv='a_tor1', between='s_tor1', data=tor1,\n",
    "               detailed=True)\n",
    "aov2 = pg.anova(dv='a_tor1', between='at_tor1', data=tor1,\n",
    "               detailed=True)\n",
    "aov3 = pg.anova(dv='a_tor1', between='st_tor1', data=tor1,\n",
    "               detailed=True)\n",
    "aov4 = pg.anova(dv='s_tor1', between='st_tor1', data=tor1,\n",
    "               detailed=True)\n",
    "print(aov1)\n",
    "print()\n",
    "print(aov2)\n",
    "print()\n",
    "print(aov3)\n",
    "print()\n",
    "print(aov4)"
   ]
  },
  {
   "cell_type": "code",
   "execution_count": null,
   "metadata": {},
   "outputs": [],
   "source": [
    "aov1 = pg.pairwise_tukey(dv='a_d', between='s_d', data=dist)\n",
    "aov2 = pg.pairwise_tukey(dv='a_d', between='at_d', data=dist)\n",
    "aov3 = pg.pairwise_tukey(dv='a_d', between='st_d', data=dist)\n",
    "aov4 = pg.pairwise_tukey(dv='s_d', between='st_d', data=dist)\n",
    "print(aov1)\n",
    "print()\n",
    "print(aov2)\n",
    "print()\n",
    "print(aov3)\n",
    "print()\n",
    "print(aov4)"
   ]
  },
  {
   "cell_type": "code",
   "execution_count": 3,
   "metadata": {},
   "outputs": [],
   "source": [
    "import matplotlib.pyplot as plt\n",
    "import numpy as np"
   ]
  },
  {
   "cell_type": "code",
   "execution_count": null,
   "metadata": {},
   "outputs": [],
   "source": [
    "aov1 = pg.anova(dv='a_d', between=['s_d', 'at_d', 'st_d'], data=dist,\n",
    "               detailed=True)\n",
    "print(aov1)"
   ]
  },
  {
   "cell_type": "code",
   "execution_count": null,
   "metadata": {},
   "outputs": [],
   "source": []
  }
 ],
 "metadata": {
  "kernelspec": {
   "display_name": "Python 3",
   "language": "python",
   "name": "python3"
  },
  "language_info": {
   "codemirror_mode": {
    "name": "ipython",
    "version": 3
   },
   "file_extension": ".py",
   "mimetype": "text/x-python",
   "name": "python",
   "nbconvert_exporter": "python",
   "pygments_lexer": "ipython3",
   "version": "3.7.6"
  }
 },
 "nbformat": 4,
 "nbformat_minor": 4
}
